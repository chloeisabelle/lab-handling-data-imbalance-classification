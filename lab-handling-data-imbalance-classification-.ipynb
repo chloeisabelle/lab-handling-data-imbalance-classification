{
 "cells": [
  {
   "cell_type": "code",
   "execution_count": 1,
   "id": "97d77c8d",
   "metadata": {},
   "outputs": [],
   "source": [
    "# importing libraries\n",
    "import pandas as pd\n",
    "import numpy as np\n",
    "pd.set_option('display.max_columns', None)\n",
    "import warnings\n",
    "warnings.filterwarnings('ignore')\n",
    "from sklearn.model_selection import train_test_split\n",
    "%matplotlib inline\n",
    "import matplotlib.pyplot as plt"
   ]
  },
  {
   "cell_type": "code",
   "execution_count": 2,
   "id": "8314d820",
   "metadata": {},
   "outputs": [
    {
     "data": {
      "text/html": [
       "<div>\n",
       "<style scoped>\n",
       "    .dataframe tbody tr th:only-of-type {\n",
       "        vertical-align: middle;\n",
       "    }\n",
       "\n",
       "    .dataframe tbody tr th {\n",
       "        vertical-align: top;\n",
       "    }\n",
       "\n",
       "    .dataframe thead th {\n",
       "        text-align: right;\n",
       "    }\n",
       "</style>\n",
       "<table border=\"1\" class=\"dataframe\">\n",
       "  <thead>\n",
       "    <tr style=\"text-align: right;\">\n",
       "      <th></th>\n",
       "      <th>gender</th>\n",
       "      <th>SeniorCitizen</th>\n",
       "      <th>Partner</th>\n",
       "      <th>Dependents</th>\n",
       "      <th>tenure</th>\n",
       "      <th>PhoneService</th>\n",
       "      <th>OnlineSecurity</th>\n",
       "      <th>OnlineBackup</th>\n",
       "      <th>DeviceProtection</th>\n",
       "      <th>TechSupport</th>\n",
       "      <th>StreamingTV</th>\n",
       "      <th>StreamingMovies</th>\n",
       "      <th>Contract</th>\n",
       "      <th>MonthlyCharges</th>\n",
       "      <th>TotalCharges</th>\n",
       "      <th>Churn</th>\n",
       "    </tr>\n",
       "  </thead>\n",
       "  <tbody>\n",
       "    <tr>\n",
       "      <th>0</th>\n",
       "      <td>Female</td>\n",
       "      <td>0</td>\n",
       "      <td>Yes</td>\n",
       "      <td>No</td>\n",
       "      <td>1</td>\n",
       "      <td>No</td>\n",
       "      <td>No</td>\n",
       "      <td>Yes</td>\n",
       "      <td>No</td>\n",
       "      <td>No</td>\n",
       "      <td>No</td>\n",
       "      <td>No</td>\n",
       "      <td>Month-to-month</td>\n",
       "      <td>29.85</td>\n",
       "      <td>29.85</td>\n",
       "      <td>No</td>\n",
       "    </tr>\n",
       "    <tr>\n",
       "      <th>1</th>\n",
       "      <td>Male</td>\n",
       "      <td>0</td>\n",
       "      <td>No</td>\n",
       "      <td>No</td>\n",
       "      <td>34</td>\n",
       "      <td>Yes</td>\n",
       "      <td>Yes</td>\n",
       "      <td>No</td>\n",
       "      <td>Yes</td>\n",
       "      <td>No</td>\n",
       "      <td>No</td>\n",
       "      <td>No</td>\n",
       "      <td>One year</td>\n",
       "      <td>56.95</td>\n",
       "      <td>1889.5</td>\n",
       "      <td>No</td>\n",
       "    </tr>\n",
       "    <tr>\n",
       "      <th>2</th>\n",
       "      <td>Male</td>\n",
       "      <td>0</td>\n",
       "      <td>No</td>\n",
       "      <td>No</td>\n",
       "      <td>2</td>\n",
       "      <td>Yes</td>\n",
       "      <td>Yes</td>\n",
       "      <td>Yes</td>\n",
       "      <td>No</td>\n",
       "      <td>No</td>\n",
       "      <td>No</td>\n",
       "      <td>No</td>\n",
       "      <td>Month-to-month</td>\n",
       "      <td>53.85</td>\n",
       "      <td>108.15</td>\n",
       "      <td>Yes</td>\n",
       "    </tr>\n",
       "    <tr>\n",
       "      <th>3</th>\n",
       "      <td>Male</td>\n",
       "      <td>0</td>\n",
       "      <td>No</td>\n",
       "      <td>No</td>\n",
       "      <td>45</td>\n",
       "      <td>No</td>\n",
       "      <td>Yes</td>\n",
       "      <td>No</td>\n",
       "      <td>Yes</td>\n",
       "      <td>Yes</td>\n",
       "      <td>No</td>\n",
       "      <td>No</td>\n",
       "      <td>One year</td>\n",
       "      <td>42.30</td>\n",
       "      <td>1840.75</td>\n",
       "      <td>No</td>\n",
       "    </tr>\n",
       "    <tr>\n",
       "      <th>4</th>\n",
       "      <td>Female</td>\n",
       "      <td>0</td>\n",
       "      <td>No</td>\n",
       "      <td>No</td>\n",
       "      <td>2</td>\n",
       "      <td>Yes</td>\n",
       "      <td>No</td>\n",
       "      <td>No</td>\n",
       "      <td>No</td>\n",
       "      <td>No</td>\n",
       "      <td>No</td>\n",
       "      <td>No</td>\n",
       "      <td>Month-to-month</td>\n",
       "      <td>70.70</td>\n",
       "      <td>151.65</td>\n",
       "      <td>Yes</td>\n",
       "    </tr>\n",
       "  </tbody>\n",
       "</table>\n",
       "</div>"
      ],
      "text/plain": [
       "   gender  SeniorCitizen Partner Dependents  tenure PhoneService  \\\n",
       "0  Female              0     Yes         No       1           No   \n",
       "1    Male              0      No         No      34          Yes   \n",
       "2    Male              0      No         No       2          Yes   \n",
       "3    Male              0      No         No      45           No   \n",
       "4  Female              0      No         No       2          Yes   \n",
       "\n",
       "  OnlineSecurity OnlineBackup DeviceProtection TechSupport StreamingTV  \\\n",
       "0             No          Yes               No          No          No   \n",
       "1            Yes           No              Yes          No          No   \n",
       "2            Yes          Yes               No          No          No   \n",
       "3            Yes           No              Yes         Yes          No   \n",
       "4             No           No               No          No          No   \n",
       "\n",
       "  StreamingMovies        Contract  MonthlyCharges TotalCharges Churn  \n",
       "0              No  Month-to-month           29.85        29.85    No  \n",
       "1              No        One year           56.95       1889.5    No  \n",
       "2              No  Month-to-month           53.85       108.15   Yes  \n",
       "3              No        One year           42.30      1840.75    No  \n",
       "4              No  Month-to-month           70.70       151.65   Yes  "
      ]
     },
     "execution_count": 2,
     "metadata": {},
     "output_type": "execute_result"
    }
   ],
   "source": [
    "# Read data frame \n",
    "churnData = pd.read_csv('./files_for_lab/Customer-Churn.csv')\n",
    "churnData.head()"
   ]
  },
  {
   "cell_type": "code",
   "execution_count": 3,
   "id": "07698f7c",
   "metadata": {},
   "outputs": [
    {
     "name": "stdout",
     "output_type": "stream",
     "text": [
      "<class 'pandas.core.frame.DataFrame'>\n",
      "RangeIndex: 7043 entries, 0 to 7042\n",
      "Data columns (total 16 columns):\n",
      " #   Column            Non-Null Count  Dtype  \n",
      "---  ------            --------------  -----  \n",
      " 0   gender            7043 non-null   object \n",
      " 1   SeniorCitizen     7043 non-null   int64  \n",
      " 2   Partner           7043 non-null   object \n",
      " 3   Dependents        7043 non-null   object \n",
      " 4   tenure            7043 non-null   int64  \n",
      " 5   PhoneService      7043 non-null   object \n",
      " 6   OnlineSecurity    7043 non-null   object \n",
      " 7   OnlineBackup      7043 non-null   object \n",
      " 8   DeviceProtection  7043 non-null   object \n",
      " 9   TechSupport       7043 non-null   object \n",
      " 10  StreamingTV       7043 non-null   object \n",
      " 11  StreamingMovies   7043 non-null   object \n",
      " 12  Contract          7043 non-null   object \n",
      " 13  MonthlyCharges    7043 non-null   float64\n",
      " 14  TotalCharges      7043 non-null   object \n",
      " 15  Churn             7043 non-null   object \n",
      "dtypes: float64(1), int64(2), object(13)\n",
      "memory usage: 880.5+ KB\n"
     ]
    }
   ],
   "source": [
    "churnData.info()"
   ]
  },
  {
   "cell_type": "code",
   "execution_count": 4,
   "id": "e6bade19",
   "metadata": {},
   "outputs": [],
   "source": [
    "#Check the datatypes of all the columns in the data. You would see that the column TotalCharges is object type. Convert this column into numeric type using pd.to_numeric function.\n",
    "\n",
    "#Check for null values in the dataframe. Replace the null values.\n",
    "\n",
    "churnData['TotalCharges'] = pd.to_numeric(churnData['TotalCharges'], errors='coerce')\n",
    "churnData['TotalCharges'] = churnData['TotalCharges'].fillna(np.mean(churnData['TotalCharges']))"
   ]
  },
  {
   "cell_type": "code",
   "execution_count": 5,
   "id": "747884a2",
   "metadata": {},
   "outputs": [],
   "source": [
    "# Use the following features: tenure, SeniorCitizen, MonthlyCharges and TotalCharges:\n",
    "#Scale the features either by using normalizer or a standard scaler.\n",
    "from sklearn.preprocessing import StandardScaler \n",
    "X = churnData[['tenure', 'SeniorCitizen','MonthlyCharges', 'TotalCharges']]\n",
    "transformer = StandardScaler().fit(X) \n",
    "X = transformer.transform(X) \n",
    "y = churnData['Churn'] \n",
    "# X_sm, y_sm = smote.fit_resample(X, y) \n",
    "# y_sm.value_counts()"
   ]
  },
  {
   "cell_type": "code",
   "execution_count": 6,
   "id": "c5075bc7",
   "metadata": {},
   "outputs": [
    {
     "data": {
      "text/plain": [
       "No     5174\n",
       "Yes    1869\n",
       "Name: Churn, dtype: int64"
      ]
     },
     "execution_count": 6,
     "metadata": {},
     "output_type": "execute_result"
    }
   ],
   "source": [
    "y.value_counts()  # the target is imbalance"
   ]
  },
  {
   "cell_type": "code",
   "execution_count": 7,
   "id": "452f86a1",
   "metadata": {},
   "outputs": [],
   "source": [
    "#Split the data into a training set and a test set.\n",
    "\n",
    "X_train, X_test, y_train, y_test = train_test_split(X, y, test_size=0.2)"
   ]
  },
  {
   "cell_type": "code",
   "execution_count": 8,
   "id": "3807917f",
   "metadata": {},
   "outputs": [],
   "source": [
    "# Fit a logistic regression model on the training data.\n",
    "\n",
    "from sklearn.metrics import accuracy_score\n",
    "from sklearn.linear_model import LogisticRegression\n",
    "model = LogisticRegression(solver='lbfgs')\n",
    "classification = model.fit(X_train, y_train)\n",
    "prediction = classification.predict(X_test)\n"
   ]
  },
  {
   "cell_type": "code",
   "execution_count": 9,
   "id": "c136a495",
   "metadata": {},
   "outputs": [
    {
     "name": "stdout",
     "output_type": "stream",
     "text": [
      "The accuracy of the model on test set is: 0.79 \n",
      "[[950  85]\n",
      " [207 167]]\n"
     ]
    },
    {
     "data": {
      "image/png": "[encoded data removed]",
      "text/plain": [
       "<Figure size 432x288 with 2 Axes>"
      ]
     },
     "metadata": {
      "needs_background": "light"
     },
     "output_type": "display_data"
    },
    {
     "name": "stdout",
     "output_type": "stream",
     "text": [
      "The Kappa of your model is: 0.41\n"
     ]
    }
   ],
   "source": [
    "#Check the accuracy on the test data.\n",
    "from sklearn.metrics import confusion_matrix\n",
    "from sklearn.metrics import plot_confusion_matrix\n",
    "from sklearn.metrics import cohen_kappa_score\n",
    "\n",
    "print(\"The accuracy of the model on test set is: %4.2f \" % accuracy_score(y_test, prediction))\n",
    "print(confusion_matrix(y_test, prediction))\n",
    "plot_confusion_matrix(classification, X_test, y_test)  # doctest: +SKIP\n",
    "plt.show()  # doctest: +SKIP\n",
    "print(\"The Kappa of your model is: %4.2f\" % (cohen_kappa_score(y_test, prediction)))"
   ]
  },
  {
   "cell_type": "markdown",
   "id": "5c470e63",
   "metadata": {},
   "source": [
    "Managing imbalance in the dataset\n",
    "\n",
    "Check for the imbalance. Use the resampling strategies used in class for upsampling and downsampling to create a balance between the two classes. Each time fit the model and see how the accuracy of the model is.\n",
    "\n",
    "Appling SMOTE for upsampling the data"
   ]
  },
  {
   "cell_type": "code",
   "execution_count": 10,
   "id": "11ae77f1",
   "metadata": {},
   "outputs": [
    {
     "data": {
      "text/plain": [
       "No     5174\n",
       "Yes    5174\n",
       "Name: Churn, dtype: int64"
      ]
     },
     "execution_count": 10,
     "metadata": {},
     "output_type": "execute_result"
    }
   ],
   "source": [
    "from imblearn.over_sampling import SMOTE \n",
    "smote = SMOTE() \n",
    "X_sm, y_sm = smote.fit_resample(X, y) \n",
    "y_sm.value_counts()"
   ]
  },
  {
   "cell_type": "code",
   "execution_count": 11,
   "id": "06e742cc",
   "metadata": {},
   "outputs": [],
   "source": [
    "X_train_sm, X_test_sm, y_train_sm, y_test_sm = train_test_split(X_sm, y_sm, test_size=0.2)"
   ]
  },
  {
   "cell_type": "code",
   "execution_count": 12,
   "id": "759f99f4",
   "metadata": {},
   "outputs": [
    {
     "name": "stdout",
     "output_type": "stream",
     "text": [
      "The accuracy of the model on test set after appling SMOTE for upsampling the data is: 0.72 \n",
      "[[775 290]\n",
      " [294 711]]\n"
     ]
    },
    {
     "data": {
      "image/png": "[encoded data removed]",
      "text/plain": [
       "<Figure size 432x288 with 2 Axes>"
      ]
     },
     "metadata": {
      "needs_background": "light"
     },
     "output_type": "display_data"
    },
    {
     "name": "stdout",
     "output_type": "stream",
     "text": [
      "The Kappa of your model after appling SMOTE for upsampling the data is: 0.44\n"
     ]
    }
   ],
   "source": [
    "classification_sm = model.fit(X_train_sm, y_train_sm)\n",
    "prediction_sm = classification_sm.predict(X_test_sm)\n",
    "\n",
    "#Check the accuracy on the test data.\n",
    "print(\"The accuracy of the model on test set after appling SMOTE for upsampling the data is: %4.2f \" % accuracy_score(y_test_sm, prediction_sm))\n",
    "print(confusion_matrix(y_test_sm, prediction_sm))\n",
    "plot_confusion_matrix(classification_sm, X_test_sm, y_test_sm)  # doctest: +SKIP\n",
    "plt.show()  # doctest: +SKIP\n",
    "print(\"The Kappa of your model after appling SMOTE for upsampling the data is: %4.2f\" % (cohen_kappa_score(y_test_sm, prediction_sm)))"
   ]
  },
  {
   "cell_type": "code",
   "execution_count": 13,
   "id": "d41748f0",
   "metadata": {},
   "outputs": [],
   "source": [
    "#down sampling\n",
    "\n",
    "category_0 = churnData[churnData['Churn'] == 'Yes']\n",
    "category_1 = churnData[churnData['Churn'] == 'No']"
   ]
  },
  {
   "cell_type": "code",
   "execution_count": 14,
   "id": "bcb85fd4",
   "metadata": {},
   "outputs": [
    {
     "name": "stdout",
     "output_type": "stream",
     "text": [
      "(1869, 16)\n",
      "(1869, 16)\n"
     ]
    }
   ],
   "source": [
    "category_1 = category_1.sample(len(category_0))\n",
    "print(category_0.shape)\n",
    "print(category_1.shape)"
   ]
  },
  {
   "cell_type": "code",
   "execution_count": 15,
   "id": "48e42ba2",
   "metadata": {},
   "outputs": [
    {
     "data": {
      "text/plain": [
       "No     5174\n",
       "Yes    1869\n",
       "Name: Churn, dtype: int64"
      ]
     },
     "execution_count": 15,
     "metadata": {},
     "output_type": "execute_result"
    }
   ],
   "source": [
    "\n",
    "churndata_ = pd.concat([category_0, category_1], axis=0)\n",
    "#shuffling the data\n",
    "# by selecting frac=1, we taking the a sample of the 100% but randomly selected, i.e shuuffled \n",
    "churnData_ = churnData.sample(frac=1)\n",
    "churnData_['Churn'].value_counts()"
   ]
  },
  {
   "cell_type": "code",
   "execution_count": 16,
   "id": "0016c877",
   "metadata": {},
   "outputs": [],
   "source": [
    "X_ = churnData_[['tenure', 'SeniorCitizen','MonthlyCharges', 'TotalCharges']]\n",
    "transformer = StandardScaler().fit(X_) \n",
    "X_ = transformer.transform(X_) \n",
    "y_ = churnData_['Churn'] "
   ]
  },
  {
   "cell_type": "code",
   "execution_count": 17,
   "id": "f28d3ec7",
   "metadata": {},
   "outputs": [],
   "source": [
    "#Split the data into a training set and a test set.\n",
    "\n",
    "X_train_, X_test_, y_train_, y_test_ = train_test_split(X_, y_, test_size=0.2)"
   ]
  },
  {
   "cell_type": "code",
   "execution_count": 18,
   "id": "0efdce8f",
   "metadata": {},
   "outputs": [
    {
     "name": "stdout",
     "output_type": "stream",
     "text": [
      "The accuracy of the model on test set after down sampling of the data is: 0.80 \n",
      "[[949  84]\n",
      " [191 185]]\n"
     ]
    },
    {
     "data": {
      "image/png": "[encoded data removed]",
      "text/plain": [
       "<Figure size 432x288 with 2 Axes>"
      ]
     },
     "metadata": {
      "needs_background": "light"
     },
     "output_type": "display_data"
    },
    {
     "name": "stdout",
     "output_type": "stream",
     "text": [
      "The Kappa of your model after down sampling of the data is: 0.45\n"
     ]
    }
   ],
   "source": [
    "classification_ = model.fit(X_train_, y_train_)\n",
    "prediction_ = classification_.predict(X_test_)\n",
    "\n",
    "#Check the accuracy on the test data.\n",
    "print(\"The accuracy of the model on test set after down sampling of the data is: %4.2f \" % accuracy_score(y_test_, prediction_))\n",
    "print(confusion_matrix(y_test_, prediction_))\n",
    "plot_confusion_matrix(classification_, X_test_, y_test_)  # doctest: +SKIP\n",
    "plt.show()  # doctest: +SKIP\n",
    "print(\"The Kappa of your model after down sampling of the data is: %4.2f\" % (cohen_kappa_score(y_test_, prediction_)))"
   ]
  },
  {
   "cell_type": "code",
   "execution_count": 19,
   "id": "5e0a12e4",
   "metadata": {},
   "outputs": [],
   "source": [
    "#Apply TomekLinks for downsampling"
   ]
  },
  {
   "cell_type": "code",
   "execution_count": 20,
   "id": "6c038a21",
   "metadata": {},
   "outputs": [
    {
     "data": {
      "text/plain": [
       "No     4665\n",
       "Yes    1869\n",
       "Name: Churn, dtype: int64"
      ]
     },
     "execution_count": 20,
     "metadata": {},
     "output_type": "execute_result"
    }
   ],
   "source": [
    "from imblearn.under_sampling import TomekLinks\n",
    "tome = TomekLinks() \n",
    "X_tl, y_tl = tome.fit_resample(X, y) \n",
    "y_tl.value_counts()"
   ]
  },
  {
   "cell_type": "code",
   "execution_count": 21,
   "id": "0a90db5c",
   "metadata": {},
   "outputs": [],
   "source": [
    "X_train1, X_test1, y_train1, y_test1 = train_test_split(X_tl, y_tl, test_size=0.2)"
   ]
  },
  {
   "cell_type": "code",
   "execution_count": 22,
   "id": "cd9bafe1",
   "metadata": {},
   "outputs": [
    {
     "name": "stdout",
     "output_type": "stream",
     "text": [
      "The accuracy of the model on test set after downsampling of the data by TomekLinks is: 0.81 \n",
      "[[857  93]\n",
      " [157 200]]\n"
     ]
    },
    {
     "data": {
      "image/png": "[encoded data removed]",
      "text/plain": [
       "<Figure size 432x288 with 2 Axes>"
      ]
     },
     "metadata": {
      "needs_background": "light"
     },
     "output_type": "display_data"
    },
    {
     "name": "stdout",
     "output_type": "stream",
     "text": [
      "The Kappa of your model after downsampling of the data by TomekLinks is: 0.49\n"
     ]
    }
   ],
   "source": [
    "classification_tl = model.fit(X_train1, y_train1)\n",
    "prediction_tl = classification_tl.predict(X_test1)\n",
    "\n",
    "#Check the accuracy on the test data.\n",
    "\n",
    "print(\"The accuracy of the model on test set after downsampling of the data by TomekLinks is: %4.2f \" % accuracy_score(y_test1, prediction_tl))\n",
    "print(confusion_matrix(y_test1, prediction_tl))\n",
    "plot_confusion_matrix(classification_tl, X_test1, y_test1)  # doctest: +SKIP\n",
    "plt.show()  # doctest: +SKIP\n",
    "print(\"The Kappa of your model after downsampling of the data by TomekLinks is: %4.2f\" % (cohen_kappa_score(y_test1, prediction_tl)))"
   ]
  },
  {
   "cell_type": "code",
   "execution_count": null,
   "id": "cb3c7376",
   "metadata": {},
   "outputs": [],
   "source": []
  }
 ],
 "metadata": {
  "kernelspec": {
   "display_name": "Python 3 (ipykernel)",
   "language": "python",
   "name": "python3"
  },
  "language_info": {
   "codemirror_mode": {
    "name": "ipython",
    "version": 3
   },
   "file_extension": ".py",
   "mimetype": "text/x-python",
   "name": "python",
   "nbconvert_exporter": "python",
   "pygments_lexer": "ipython3",
   "version": "3.9.12"
  }
 },
 "nbformat": 4,
 "nbformat_minor": 5
}
